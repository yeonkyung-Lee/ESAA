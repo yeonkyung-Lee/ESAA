{
 "cells": [
  {
   "cell_type": "markdown",
   "metadata": {},
   "source": [
    "# 05_6. 외장함수\n",
    "전 세계의 파이썬 사용자들이 만든 유용한 프로그램을 모아 놓은 것이 바로 파이썬 라이브러리이다. 자주 사용되고 꼭 알아 두면 좋은 라이브러리를 중심으로 하나씩 살펴보자."
   ]
  },
  {
   "cell_type": "markdown",
   "metadata": {},
   "source": [
    "## sys\n",
    "sys 모듈은 파이썬 인터프리터가 제공하는 변수와 함수를 직접 제어할 수 있게 해주는 모듈이다."
   ]
  },
  {
   "cell_type": "code",
   "execution_count": 2,
   "metadata": {},
   "outputs": [],
   "source": [
    "import sys"
   ]
  },
  {
   "cell_type": "markdown",
   "metadata": {},
   "source": [
    "**sys.exit** : 강제로 스크립트 종료하기"
   ]
  },
  {
   "cell_type": "code",
   "execution_count": 3,
   "metadata": {},
   "outputs": [
    {
     "ename": "SystemExit",
     "evalue": "",
     "output_type": "error",
     "traceback": [
      "An exception has occurred, use %tb to see the full traceback.\n",
      "\u001b[1;31mSystemExit\u001b[0m\n"
     ]
    },
    {
     "name": "stderr",
     "output_type": "stream",
     "text": [
      "C:\\Users\\SAMSUNG\\Anaconda3\\lib\\site-packages\\IPython\\core\\interactiveshell.py:3333: UserWarning: To exit: use 'exit', 'quit', or Ctrl-D.\n",
      "  warn(\"To exit: use 'exit', 'quit', or Ctrl-D.\", stacklevel=1)\n"
     ]
    }
   ],
   "source": [
    "sys.exit()"
   ]
  },
  {
   "cell_type": "code",
   "execution_count": 4,
   "metadata": {},
   "outputs": [
    {
     "name": "stdout",
     "output_type": "stream",
     "text": [
      "1\n",
      "2\n",
      "3\n",
      "4\n"
     ]
    },
    {
     "ename": "SystemExit",
     "evalue": "",
     "output_type": "error",
     "traceback": [
      "An exception has occurred, use %tb to see the full traceback.\n",
      "\u001b[1;31mSystemExit\u001b[0m\n"
     ]
    }
   ],
   "source": [
    "i=1\n",
    "while i:\n",
    "    print(i)\n",
    "    i+=1\n",
    "    if i==5:\n",
    "        sys.exit()"
   ]
  },
  {
   "cell_type": "markdown",
   "metadata": {},
   "source": [
    "**sys.path** : 자신이 만든 모듈 불러와 사용하기"
   ]
  },
  {
   "cell_type": "code",
   "execution_count": 5,
   "metadata": {},
   "outputs": [
    {
     "name": "stdout",
     "output_type": "stream",
     "text": [
      "['C:\\\\Users\\\\SAMSUNG\\\\Desktop\\\\ESAA', 'C:\\\\Users\\\\SAMSUNG\\\\Anaconda3\\\\python37.zip', 'C:\\\\Users\\\\SAMSUNG\\\\Anaconda3\\\\DLLs', 'C:\\\\Users\\\\SAMSUNG\\\\Anaconda3\\\\lib', 'C:\\\\Users\\\\SAMSUNG\\\\Anaconda3', '', 'C:\\\\Users\\\\SAMSUNG\\\\Anaconda3\\\\lib\\\\site-packages', 'C:\\\\Users\\\\SAMSUNG\\\\Anaconda3\\\\lib\\\\site-packages\\\\win32', 'C:\\\\Users\\\\SAMSUNG\\\\Anaconda3\\\\lib\\\\site-packages\\\\win32\\\\lib', 'C:\\\\Users\\\\SAMSUNG\\\\Anaconda3\\\\lib\\\\site-packages\\\\Pythonwin', 'C:\\\\Users\\\\SAMSUNG\\\\Anaconda3\\\\lib\\\\site-packages\\\\IPython\\\\extensions', 'C:\\\\Users\\\\SAMSUNG\\\\.ipython']\n"
     ]
    }
   ],
   "source": [
    "print(sys.path)"
   ]
  },
  {
   "cell_type": "markdown",
   "metadata": {},
   "source": [
    "sys.path는 파이썬 모듈들이 저장되어 있는 위치를 나타낸다. 즉 이 위치에 있는 파이썬 모듈은 경로에 상관없이 어디에서나 불러올 수 있다. ''는 현재 디렉터리를 말한다."
   ]
  },
  {
   "cell_type": "code",
   "execution_count": 6,
   "metadata": {},
   "outputs": [],
   "source": [
    "sys.path.append(\"C:/doit/mymod\")"
   ]
  },
  {
   "cell_type": "markdown",
   "metadata": {},
   "source": [
    "sys.path.append를 사용해 경로 이름을 추가할 수 있다. 이렇게 하고 난 후에는 C:/doit/Mymod 디렉터리에 있는 파이썬 모듈을 불러와서 사용할 수 있다."
   ]
  },
  {
   "cell_type": "markdown",
   "metadata": {},
   "source": [
    "## pickle\n",
    ": 객체의 형태를 그대로 유지하면서 파일에 저장하고 불러올 수 있게 하는 모듈이다."
   ]
  },
  {
   "cell_type": "markdown",
   "metadata": {},
   "source": [
    "아래는 pickle 모듈의 **dump** 함수를 사용하여 딕셔너리 객체인 data를 그대로 파일에 저장하는 방법을 보여 준다."
   ]
  },
  {
   "cell_type": "code",
   "execution_count": 7,
   "metadata": {},
   "outputs": [],
   "source": [
    "import pickle\n",
    "f = open(\"test.txt\", 'wb')\n",
    "data = {1: 'python', 2: 'you need'}\n",
    "pickle.dump(data, f)\n",
    "f.close()"
   ]
  },
  {
   "cell_type": "markdown",
   "metadata": {},
   "source": [
    "현재 디렉토리에 가보면 data 객체를 그대로 저장한 text.txt파일이 있다."
   ]
  },
  {
   "cell_type": "markdown",
   "metadata": {},
   "source": [
    "pickle.dump로 저장한 파일을 **pickle.load**를 사용해서 원래 있던 딕셔너리 객체(data) 상태 그대로 불러오는 예이다."
   ]
  },
  {
   "cell_type": "code",
   "execution_count": 8,
   "metadata": {},
   "outputs": [
    {
     "name": "stdout",
     "output_type": "stream",
     "text": [
      "{1: 'python', 2: 'you need'}\n"
     ]
    }
   ],
   "source": [
    "import pickle\n",
    "f = open(\"test.txt\", 'rb')\n",
    "data = pickle.load(f)\n",
    "print(data)"
   ]
  },
  {
   "cell_type": "markdown",
   "metadata": {},
   "source": [
    "## OS\n",
    ": 환경 변수나 디렉터리, 파일 등의 OS 자원을 제어할 수 있게 해주는 모듈이다."
   ]
  },
  {
   "cell_type": "markdown",
   "metadata": {},
   "source": [
    "**os.environ** : 현재 시스템의 환경 변수값을 보여준다."
   ]
  },
  {
   "cell_type": "code",
   "execution_count": 9,
   "metadata": {},
   "outputs": [
    {
     "data": {
      "text/plain": [
       "environ{'ALLUSERSPROFILE': 'C:\\\\ProgramData',\n",
       "        'APPDATA': 'C:\\\\Users\\\\SAMSUNG\\\\AppData\\\\Roaming',\n",
       "        'CLSID': '{172CCF67-44C6-41DD-8326-95C7FCE84ED7}',\n",
       "        'COMMONPROGRAMFILES': 'C:\\\\Program Files\\\\Common Files',\n",
       "        'COMMONPROGRAMFILES(X86)': 'C:\\\\Program Files (x86)\\\\Common Files',\n",
       "        'COMMONPROGRAMW6432': 'C:\\\\Program Files\\\\Common Files',\n",
       "        'COMPUTERNAME': 'LAPTOP-TFEACT8D',\n",
       "        'COMSPEC': 'C:\\\\WINDOWS\\\\system32\\\\cmd.exe',\n",
       "        'CONDA_DEFAULT_ENV': 'base',\n",
       "        'CONDA_EXE': 'C:\\\\Users\\\\SAMSUNG\\\\Anaconda3\\\\Scripts\\\\conda.exe',\n",
       "        'CONDA_PREFIX': 'C:\\\\Users\\\\SAMSUNG\\\\Anaconda3',\n",
       "        'CONDA_PROMPT_MODIFIER': '(base) ',\n",
       "        'CONDA_PYTHON_EXE': 'C:\\\\Users\\\\SAMSUNG\\\\Anaconda3\\\\python.exe',\n",
       "        'CONDA_SHLVL': '1',\n",
       "        'DRIVERDATA': 'C:\\\\Windows\\\\System32\\\\Drivers\\\\DriverData',\n",
       "        'FPS_BROWSER_APP_PROFILE_STRING': 'Internet Explorer',\n",
       "        'FPS_BROWSER_USER_PROFILE_STRING': 'Default',\n",
       "        'HOMEDRIVE': 'C:',\n",
       "        'HOMEPATH': '\\\\Users\\\\SAMSUNG',\n",
       "        'LOCALAPPDATA': 'C:\\\\Users\\\\SAMSUNG\\\\AppData\\\\Local',\n",
       "        'LOGONSERVER': '\\\\\\\\LAPTOP-TFEACT8D',\n",
       "        'NUMBER_OF_PROCESSORS': '4',\n",
       "        'ONEDRIVE': 'C:\\\\Users\\\\SAMSUNG\\\\OneDrive - ewhain.net',\n",
       "        'ONEDRIVECOMMERCIAL': 'C:\\\\Users\\\\SAMSUNG\\\\OneDrive - ewhain.net',\n",
       "        'OS': 'Windows_NT',\n",
       "        'PATH': 'C:\\\\Users\\\\SAMSUNG\\\\Anaconda3;C:\\\\Users\\\\SAMSUNG\\\\Anaconda3\\\\Library\\\\mingw-w64\\\\bin;C:\\\\Users\\\\SAMSUNG\\\\Anaconda3\\\\Library\\\\usr\\\\bin;C:\\\\Users\\\\SAMSUNG\\\\Anaconda3\\\\Library\\\\bin;C:\\\\Users\\\\SAMSUNG\\\\Anaconda3\\\\Scripts;C:\\\\Users\\\\SAMSUNG\\\\Anaconda3\\\\bin;C:\\\\Users\\\\SAMSUNG\\\\Anaconda3\\\\condabin;C:\\\\Program Files (x86)\\\\Intel\\\\iCLS Client;C:\\\\Program Files\\\\Intel\\\\iCLS Client;C:\\\\WINDOWS\\\\system32;C:\\\\WINDOWS;C:\\\\WINDOWS\\\\System32\\\\Wbem;C:\\\\WINDOWS\\\\System32\\\\WindowsPowerShell\\\\v1.0;C:\\\\Program Files (x86)\\\\Intel\\\\Intel(R) Management Engine Components\\\\DAL;C:\\\\Program Files\\\\Intel\\\\Intel(R) Management Engine Components\\\\DAL;C:\\\\Program Files (x86)\\\\Intel\\\\Intel(R) Management Engine Components\\\\IPT;C:\\\\Program Files\\\\Intel\\\\Intel(R) Management Engine Components\\\\IPT;C:\\\\Program Files\\\\Intel\\\\WiFi\\\\bin;C:\\\\Program Files\\\\Common Files\\\\Intel\\\\WirelessCommon;C:\\\\WINDOWS\\\\System32\\\\OpenSSH;C:\\\\Program Files\\\\Microsoft SQL Server\\\\130\\\\Tools\\\\Binn;C:\\\\Program Files\\\\Git\\\\cmd;C:\\\\Users\\\\SAMSUNG\\\\AppData\\\\Local\\\\Microsoft\\\\WindowsApps;C:\\\\Program Files\\\\Intel\\\\WiFi\\\\bin;C:\\\\Program Files\\\\Common Files\\\\Intel\\\\WirelessCommon;.',\n",
       "        'PATHEXT': '.COM;.EXE;.BAT;.CMD;.VBS;.VBE;.JS;.JSE;.WSF;.WSH;.MSC',\n",
       "        'PROCESSOR_ARCHITECTURE': 'AMD64',\n",
       "        'PROCESSOR_IDENTIFIER': 'Intel64 Family 6 Model 78 Stepping 3, GenuineIntel',\n",
       "        'PROCESSOR_LEVEL': '6',\n",
       "        'PROCESSOR_REVISION': '4e03',\n",
       "        'PROGRAMDATA': 'C:\\\\ProgramData',\n",
       "        'PROGRAMFILES': 'C:\\\\Program Files',\n",
       "        'PROGRAMFILES(X86)': 'C:\\\\Program Files (x86)',\n",
       "        'PROGRAMW6432': 'C:\\\\Program Files',\n",
       "        'PROMPT': '(base) $P$G',\n",
       "        'PSMODULEPATH': 'C:\\\\Program Files\\\\WindowsPowerShell\\\\Modules;C:\\\\WINDOWS\\\\system32\\\\WindowsPowerShell\\\\v1.0\\\\Modules',\n",
       "        'PUBLIC': 'C:\\\\Users\\\\Public',\n",
       "        'SESSIONNAME': 'Console',\n",
       "        'SYSTEMDRIVE': 'C:',\n",
       "        'SYSTEMROOT': 'C:\\\\WINDOWS',\n",
       "        'TEMP': 'C:\\\\Users\\\\SAMSUNG\\\\AppData\\\\Local\\\\Temp',\n",
       "        'TMP': 'C:\\\\Users\\\\SAMSUNG\\\\AppData\\\\Local\\\\Temp',\n",
       "        'USERDOMAIN': 'LAPTOP-TFEACT8D',\n",
       "        'USERDOMAIN_ROAMINGPROFILE': 'LAPTOP-TFEACT8D',\n",
       "        'USERNAME': 'SAMSUNG',\n",
       "        'USERPROFILE': 'C:\\\\Users\\\\SAMSUNG',\n",
       "        'VS140COMNTOOLS': 'C:\\\\Program Files (x86)\\\\Microsoft Visual Studio 14.0\\\\Common7\\\\Tools\\\\',\n",
       "        'WINDIR': 'C:\\\\WINDOWS',\n",
       "        'KERNEL_LAUNCH_TIMEOUT': '40',\n",
       "        'JPY_INTERRUPT_EVENT': '2976',\n",
       "        'IPY_INTERRUPT_EVENT': '2976',\n",
       "        'JPY_PARENT_PID': '2896',\n",
       "        'TERM': 'xterm-color',\n",
       "        'CLICOLOR': '1',\n",
       "        'PAGER': 'cat',\n",
       "        'GIT_PAGER': 'cat',\n",
       "        'MPLBACKEND': 'module://ipykernel.pylab.backend_inline'}"
      ]
     },
     "execution_count": 9,
     "metadata": {},
     "output_type": "execute_result"
    }
   ],
   "source": [
    "import os\n",
    "os.environ"
   ]
  },
  {
   "cell_type": "markdown",
   "metadata": {},
   "source": [
    "돌려받은 객체가 딕셔너리이기 때문에 다음과 같이 호출할 수 있다. "
   ]
  },
  {
   "cell_type": "code",
   "execution_count": 10,
   "metadata": {},
   "outputs": [
    {
     "data": {
      "text/plain": [
       "'C:\\\\Users\\\\SAMSUNG\\\\Anaconda3;C:\\\\Users\\\\SAMSUNG\\\\Anaconda3\\\\Library\\\\mingw-w64\\\\bin;C:\\\\Users\\\\SAMSUNG\\\\Anaconda3\\\\Library\\\\usr\\\\bin;C:\\\\Users\\\\SAMSUNG\\\\Anaconda3\\\\Library\\\\bin;C:\\\\Users\\\\SAMSUNG\\\\Anaconda3\\\\Scripts;C:\\\\Users\\\\SAMSUNG\\\\Anaconda3\\\\bin;C:\\\\Users\\\\SAMSUNG\\\\Anaconda3\\\\condabin;C:\\\\Program Files (x86)\\\\Intel\\\\iCLS Client;C:\\\\Program Files\\\\Intel\\\\iCLS Client;C:\\\\WINDOWS\\\\system32;C:\\\\WINDOWS;C:\\\\WINDOWS\\\\System32\\\\Wbem;C:\\\\WINDOWS\\\\System32\\\\WindowsPowerShell\\\\v1.0;C:\\\\Program Files (x86)\\\\Intel\\\\Intel(R) Management Engine Components\\\\DAL;C:\\\\Program Files\\\\Intel\\\\Intel(R) Management Engine Components\\\\DAL;C:\\\\Program Files (x86)\\\\Intel\\\\Intel(R) Management Engine Components\\\\IPT;C:\\\\Program Files\\\\Intel\\\\Intel(R) Management Engine Components\\\\IPT;C:\\\\Program Files\\\\Intel\\\\WiFi\\\\bin;C:\\\\Program Files\\\\Common Files\\\\Intel\\\\WirelessCommon;C:\\\\WINDOWS\\\\System32\\\\OpenSSH;C:\\\\Program Files\\\\Microsoft SQL Server\\\\130\\\\Tools\\\\Binn;C:\\\\Program Files\\\\Git\\\\cmd;C:\\\\Users\\\\SAMSUNG\\\\AppData\\\\Local\\\\Microsoft\\\\WindowsApps;C:\\\\Program Files\\\\Intel\\\\WiFi\\\\bin;C:\\\\Program Files\\\\Common Files\\\\Intel\\\\WirelessCommon;.'"
      ]
     },
     "execution_count": 10,
     "metadata": {},
     "output_type": "execute_result"
    }
   ],
   "source": [
    "os.environ['PATH']"
   ]
  },
  {
   "cell_type": "markdown",
   "metadata": {},
   "source": [
    "**os.chdir** : 현재 디렉터리 위치를 변경한다. R의 setwd()와 동일"
   ]
  },
  {
   "cell_type": "code",
   "execution_count": 11,
   "metadata": {},
   "outputs": [],
   "source": [
    "os.chdir(\"C:\\WINDOWS\")"
   ]
  },
  {
   "cell_type": "markdown",
   "metadata": {},
   "source": [
    "**os.getcwd** : 현재 자신의 디렉터리 위치를 돌려준다. R의 getwd()와 동일"
   ]
  },
  {
   "cell_type": "code",
   "execution_count": 12,
   "metadata": {},
   "outputs": [
    {
     "data": {
      "text/plain": [
       "'C:\\\\WINDOWS'"
      ]
     },
     "execution_count": 12,
     "metadata": {},
     "output_type": "execute_result"
    }
   ],
   "source": [
    "os.getcwd()"
   ]
  },
  {
   "cell_type": "markdown",
   "metadata": {},
   "source": [
    "__os.system__ : 시스템 명령어 호출하기. 다음은 현재 디렉터리에서 시스템 명령어 dir을 실행하는 예이다."
   ]
  },
  {
   "cell_type": "code",
   "execution_count": 13,
   "metadata": {},
   "outputs": [
    {
     "data": {
      "text/plain": [
       "0"
      ]
     },
     "execution_count": 13,
     "metadata": {},
     "output_type": "execute_result"
    }
   ],
   "source": [
    "os.system(\"dir\")"
   ]
  },
  {
   "cell_type": "markdown",
   "metadata": {},
   "source": [
    "**os.popen** : 시스템 명령어를 실행한 결괏값을 읽기 모드 형태의 파일 객체로 돌려준다."
   ]
  },
  {
   "cell_type": "code",
   "execution_count": 15,
   "metadata": {},
   "outputs": [],
   "source": [
    "f = os.popen(\"dir\")"
   ]
  },
  {
   "cell_type": "code",
   "execution_count": 16,
   "metadata": {},
   "outputs": [
    {
     "name": "stdout",
     "output_type": "stream",
     "text": [
      " C 드라이브의 볼륨에는 이름이 없습니다.\n",
      " 볼륨 일련 번호: 7CEE-EB99\n",
      "\n",
      " C:\\WINDOWS 디렉터리\n",
      "\n",
      "2019-09-22  오후 03:57    <DIR>          .\n",
      "2019-09-22  오후 03:57    <DIR>          ..\n",
      "2019-03-19  오후 01:52    <DIR>          addins\n",
      "2017-04-29  오후 09:08           122,675 AhnInst.log\n",
      "2009-07-29  오전 09:53             5,430 AnyWeb Print.ico\n",
      "2019-08-12  오후 12:35    <DIR>          appcompat\n",
      "2017-01-12  오후 03:19    <DIR>          Application Data\n",
      "2019-09-12  오전 11:31    <DIR>          apppatch\n",
      "2019-09-27  오후 02:26    <DIR>          AppReadiness\n",
      "2019-09-14  오전 12:37    <DIR>          assembly\n",
      "2019-09-12  오전 11:31    <DIR>          bcastdvr\n",
      "2019-03-19  오후 01:43            73,216 bfsvc.exe\n",
      "2019-03-19  오후 01:52    <DIR>          Boot\n",
      "2019-03-19  오후 01:52    <DIR>          Branding\n",
      "2019-09-12  오전 10:59    <DIR>          CbsTemp\n",
      "2019-08-11  오후 05:36            33,969 comsetup.log\n",
      "2019-03-19  오후 01:52    <DIR>          Containers\n",
      "2019-03-19  오후 01:46            33,951 Core.xml\n",
      "2016-07-16  오후 08:43            33,498 CoreSingleLanguage.xml\n",
      "2016-09-13  오전 11:19                10 Csup.txt\n",
      "2019-03-19  오후 01:52    <DIR>          Cursors\n",
      "2018-05-26  오후 07:03             2,231 DDACLSys.log\n",
      "2019-08-18  오후 01:44    <DIR>          debug\n",
      "2019-08-11  오후 05:36            11,433 diagerr.xml\n",
      "2019-03-19  오후 01:52    <DIR>          diagnostics\n",
      "2019-03-19  오후 01:52    <DIR>          DiagTrack\n",
      "2019-08-11  오후 05:36            11,433 diagwrn.xml\n",
      "2019-03-19  오후 09:26    <DIR>          DigitalLocker\n",
      "2017-06-30  오후 02:14           102,076 DPINST.LOG\n",
      "2009-07-29  오전 09:54            11,502 Dr. Printer Icon.ico\n",
      "2019-03-19  오후 01:55               776 DtcInstall.log\n",
      "2019-08-11  오후 04:47    <DIR>          en-US\n",
      "2019-09-12  오전 10:04         4,551,352 explorer.exe\n",
      "2019-03-19  오후 01:52    <DIR>          GameBarPresenceWriter\n",
      "2019-03-19  오후 01:52    <DIR>          Globalization\n",
      "2019-08-11  오후 04:59    <DIR>          Help\n",
      "2019-08-11  오후 04:52         1,059,840 HelpPane.exe\n",
      "2019-03-19  오후 01:45            18,432 hh.exe\n",
      "2016-12-07  오전 12:05                69 hjimesv.ini\n",
      "2019-03-19  오후 01:52    <DIR>          IdentityCRL\n",
      "2019-03-19  오후 09:26    <DIR>          IME\n",
      "2019-09-12  오전 11:31    <DIR>          ImmersiveControlPanel\n",
      "2019-09-17  오전 09:34    <DIR>          INF\n",
      "2019-08-11  오후 05:23    <DIR>          InfusedApps\n",
      "2015-05-26  오후 05:39         1,665,320 INISandBoxMonitor.10035.exe\n",
      "2015-05-26  오후 05:40            80,680 INISBDrvUnit.10004.dll\n",
      "2015-05-26  오후 05:40           234,792 INISBDrvUnit64.10004.dll\n",
      "2019-03-19  오후 01:52    <DIR>          InputMethod\n",
      "2019-03-19  오후 09:26    <DIR>          ko-KR\n",
      "2019-03-19  오후 01:52    <DIR>          L2Schemas\n",
      "2019-08-11  오후 05:23    <DIR>          LiveKernelReports\n",
      "2019-09-19  오후 10:07    <DIR>          Logs\n",
      "2019-03-19  오후 01:44            43,131 mib.bin\n",
      "2019-09-27  오후 02:37    <DIR>          Microsoft.NET\n",
      "2019-03-19  오후 01:52    <DIR>          Migration\n",
      "2019-03-19  오후 01:52    <DIR>          ModemLogs\n",
      "2012-08-06  오후 02:14         1,731,072 MSetCaller.exe\n",
      "2016-12-07  오후 04:04    <DIR>          MSetup\n",
      "2016-12-07  오후 04:04                 2 MSetup.pas\n",
      "2019-03-19  오후 01:45           181,248 notepad.exe\n",
      "2019-03-19  오후 09:27    <DIR>          OCR\n",
      "2019-03-19  오후 01:53    <DIR>          Offline Web Pages\n",
      "2019-08-24  오전 10:09    <DIR>          Panther\n",
      "2019-03-19  오후 01:52    <DIR>          Performance\n",
      "2019-09-17  오전 09:30           701,104 PFRO.log\n",
      "2019-03-19  오후 01:52    <DIR>          PLA\n",
      "2019-08-11  오후 04:56    <DIR>          PolicyDefinitions\n",
      "2019-09-27  오후 08:17    <DIR>          Prefetch\n",
      "2019-09-12  오전 11:31    <DIR>          PrintDialog\n",
      "2018-01-27  오후 07:34                36 progress.ini\n",
      "2019-09-12  오전 11:31    <DIR>          Provisioning\n",
      "2019-03-19  오후 01:45           358,400 regedit.exe\n",
      "2019-08-11  오후 05:36    <DIR>          Registration\n",
      "2019-03-19  오후 01:52    <DIR>          rescache\n",
      "2015-05-26  오후 05:27             4,350 rescue_inisb.reg\n",
      "2017-04-29  오후 09:10             2,364 rescue_inisb_64.reg\n",
      "2015-05-26  오후 05:27             2,828 rescue_ocx.reg\n",
      "2017-04-29  오후 09:10             2,522 rescue_ocx_64.reg\n",
      "2019-08-11  오후 05:23    <DIR>          Resources\n",
      "2016-09-13  오전 11:17    <DIR>          RSTLog\n",
      "2016-09-21  오후 10:55         2,839,520 RtlExUpd.dll\n",
      "2017-03-12  오후 11:32    <DIR>          Samsung\n",
      "2010-08-06  오후 05:09            16,018 Samsung.png\n",
      "2015-07-13  오후 06:15         1,644,118 samsungedu.ico\n",
      "2019-03-19  오후 01:52    <DIR>          SchCache\n",
      "2019-03-19  오후 01:52    <DIR>          schemas\n",
      "2016-08-07  오전 08:53    <DIR>          sec\n",
      "2013-08-23  오후 01:59         1,630,256 SecTimeSync.exe\n",
      "2019-03-19  오후 01:52    <DIR>          security\n",
      "2019-08-11  오후 04:59    <DIR>          ServiceProfiles\n",
      "2019-03-19  오후 01:52    <DIR>          ServiceState\n",
      "2019-08-18  오후 01:44    <DIR>          servicing\n",
      "2019-08-11  오후 05:23    <DIR>          Setup\n",
      "2019-08-11  오후 05:24                 0 setuperr.log\n",
      "2019-08-11  오후 04:56    <DIR>          ShellComponents\n",
      "2019-09-12  오전 11:31    <DIR>          ShellExperiences\n",
      "2019-08-11  오후 05:23    <DIR>          ShellNew\n",
      "2019-03-19  오후 01:52    <DIR>          SKB\n",
      "2009-07-29  오전 09:55           133,757 SmartCMS2.ico\n",
      "2019-08-11  오후 05:37    <DIR>          SoftwareDistribution\n",
      "2019-03-19  오후 01:52    <DIR>          Speech\n",
      "2019-03-19  오후 01:52    <DIR>          Speech_OneCore\n",
      "2019-08-11  오후 04:51           132,096 splwow64.exe\n",
      "2011-06-23  오후 02:58           493,432 ssndii.exe\n",
      "2015-07-15  오후 04:21           562,718 survey.ico\n",
      "2019-03-19  오후 01:52    <DIR>          System\n",
      "2016-07-16  오후 08:45               219 system.ini\n",
      "2019-09-17  오전 09:34    <DIR>          System32\n",
      "2019-03-19  오후 09:27    <DIR>          SystemApps\n",
      "2019-09-12  오전 11:31    <DIR>          SystemResources\n",
      "2019-09-12  오후 08:01    <DIR>          SysWOW64\n",
      "2019-03-19  오후 01:52    <DIR>          TAPI\n",
      "2019-09-17  오전 09:29    <DIR>          Tasks\n",
      "2019-09-27  오후 08:12    <DIR>          Temp\n",
      "2019-09-12  오전 11:31    <DIR>          TextInput\n",
      "2014-05-22  오후 10:22         2,738,496 TotalUninstaller.exe\n",
      "2019-03-19  오후 01:52    <DIR>          tracing\n",
      "2016-05-18  오후 01:48           370,070 tripadvisor.ico\n",
      "2019-03-19  오후 01:53    <DIR>          twain_32\n",
      "2019-03-19  오후 01:46            64,512 twain_32.dll\n",
      "2010-07-19  오후 06:48            26,694 uninstall.ico\n",
      "2018-01-26  오후 01:41    <DIR>          UpdateAssistant\n",
      "2019-03-19  오후 01:52    <DIR>          Vss\n",
      "2019-03-19  오후 01:52    <DIR>          WaaS\n",
      "2019-03-19  오후 01:52    <DIR>          Web\n",
      "2018-02-16  오후 10:31               167 win.ini\n",
      "2019-09-27  오후 06:52               276 WindowsUpdate.log\n",
      "2019-03-19  오후 01:46            11,776 winhlp32.exe\n",
      "2017-11-04  오후 10:33               125 wininit.ini\n",
      "2019-09-12  오후 09:29    <DIR>          WinSxS\n",
      "2019-03-19  오후 09:27           316,640 WMSysPr9.prx\n",
      "2019-03-19  오후 01:45            11,264 write.exe\n",
      "              51개 파일          22,071,896 바이트\n",
      "              81개 디렉터리  45,682,094,080 바이트 남음\n",
      "\n"
     ]
    }
   ],
   "source": [
    "print(f.read())"
   ]
  },
  {
   "cell_type": "markdown",
   "metadata": {},
   "source": [
    "읽어 들인 파일 객체의 내용을 보기 위해서는 위 코드를 실행하면 된다."
   ]
  },
  {
   "cell_type": "markdown",
   "metadata": {},
   "source": [
    "#### 기타 유용한 os관련 함수\n",
    "- **os.mkdir(디렉터리)** : 디렉터리를 생성한다.\n",
    "- **os.rmdir(디렉터리)** : 디렉터리를 삭제한다.단, 디렉터리가 비어있어야 삭제가 가능하다.\n",
    "- **os.unlink(파일)** : 파일을 지운다.\n",
    "- **os.rename(src, dst)** : src라는 이름의 파일을 dst라는 이름으로 바꾼다."
   ]
  },
  {
   "cell_type": "markdown",
   "metadata": {},
   "source": [
    "## shutil\n",
    ": 파일을 복사해 주는 파이썬 모듈이다."
   ]
  },
  {
   "cell_type": "markdown",
   "metadata": {},
   "source": [
    "**shutil.copy(src,dst)** : src라는 이름의 파일을 dst로 복사한다."
   ]
  },
  {
   "cell_type": "code",
   "execution_count": 17,
   "metadata": {},
   "outputs": [
    {
     "ename": "FileNotFoundError",
     "evalue": "[Errno 2] No such file or directory: 'src.txt'",
     "output_type": "error",
     "traceback": [
      "\u001b[1;31m---------------------------------------------------------------------------\u001b[0m",
      "\u001b[1;31mFileNotFoundError\u001b[0m                         Traceback (most recent call last)",
      "\u001b[1;32m<ipython-input-17-838d8bbf21be>\u001b[0m in \u001b[0;36m<module>\u001b[1;34m\u001b[0m\n\u001b[0;32m      1\u001b[0m \u001b[1;32mimport\u001b[0m \u001b[0mshutil\u001b[0m\u001b[1;33m\u001b[0m\u001b[1;33m\u001b[0m\u001b[0m\n\u001b[1;32m----> 2\u001b[1;33m \u001b[0mshutil\u001b[0m\u001b[1;33m.\u001b[0m\u001b[0mcopy\u001b[0m\u001b[1;33m(\u001b[0m\u001b[1;34m\"src.txt\"\u001b[0m\u001b[1;33m,\u001b[0m \u001b[1;34m\"dst.txt\"\u001b[0m\u001b[1;33m)\u001b[0m\u001b[1;33m\u001b[0m\u001b[1;33m\u001b[0m\u001b[0m\n\u001b[0m",
      "\u001b[1;32m~\\Anaconda3\\lib\\shutil.py\u001b[0m in \u001b[0;36mcopy\u001b[1;34m(src, dst, follow_symlinks)\u001b[0m\n\u001b[0;32m    243\u001b[0m     \u001b[1;32mif\u001b[0m \u001b[0mos\u001b[0m\u001b[1;33m.\u001b[0m\u001b[0mpath\u001b[0m\u001b[1;33m.\u001b[0m\u001b[0misdir\u001b[0m\u001b[1;33m(\u001b[0m\u001b[0mdst\u001b[0m\u001b[1;33m)\u001b[0m\u001b[1;33m:\u001b[0m\u001b[1;33m\u001b[0m\u001b[1;33m\u001b[0m\u001b[0m\n\u001b[0;32m    244\u001b[0m         \u001b[0mdst\u001b[0m \u001b[1;33m=\u001b[0m \u001b[0mos\u001b[0m\u001b[1;33m.\u001b[0m\u001b[0mpath\u001b[0m\u001b[1;33m.\u001b[0m\u001b[0mjoin\u001b[0m\u001b[1;33m(\u001b[0m\u001b[0mdst\u001b[0m\u001b[1;33m,\u001b[0m \u001b[0mos\u001b[0m\u001b[1;33m.\u001b[0m\u001b[0mpath\u001b[0m\u001b[1;33m.\u001b[0m\u001b[0mbasename\u001b[0m\u001b[1;33m(\u001b[0m\u001b[0msrc\u001b[0m\u001b[1;33m)\u001b[0m\u001b[1;33m)\u001b[0m\u001b[1;33m\u001b[0m\u001b[1;33m\u001b[0m\u001b[0m\n\u001b[1;32m--> 245\u001b[1;33m     \u001b[0mcopyfile\u001b[0m\u001b[1;33m(\u001b[0m\u001b[0msrc\u001b[0m\u001b[1;33m,\u001b[0m \u001b[0mdst\u001b[0m\u001b[1;33m,\u001b[0m \u001b[0mfollow_symlinks\u001b[0m\u001b[1;33m=\u001b[0m\u001b[0mfollow_symlinks\u001b[0m\u001b[1;33m)\u001b[0m\u001b[1;33m\u001b[0m\u001b[1;33m\u001b[0m\u001b[0m\n\u001b[0m\u001b[0;32m    246\u001b[0m     \u001b[0mcopymode\u001b[0m\u001b[1;33m(\u001b[0m\u001b[0msrc\u001b[0m\u001b[1;33m,\u001b[0m \u001b[0mdst\u001b[0m\u001b[1;33m,\u001b[0m \u001b[0mfollow_symlinks\u001b[0m\u001b[1;33m=\u001b[0m\u001b[0mfollow_symlinks\u001b[0m\u001b[1;33m)\u001b[0m\u001b[1;33m\u001b[0m\u001b[1;33m\u001b[0m\u001b[0m\n\u001b[0;32m    247\u001b[0m     \u001b[1;32mreturn\u001b[0m \u001b[0mdst\u001b[0m\u001b[1;33m\u001b[0m\u001b[1;33m\u001b[0m\u001b[0m\n",
      "\u001b[1;32m~\\Anaconda3\\lib\\shutil.py\u001b[0m in \u001b[0;36mcopyfile\u001b[1;34m(src, dst, follow_symlinks)\u001b[0m\n\u001b[0;32m    118\u001b[0m         \u001b[0mos\u001b[0m\u001b[1;33m.\u001b[0m\u001b[0msymlink\u001b[0m\u001b[1;33m(\u001b[0m\u001b[0mos\u001b[0m\u001b[1;33m.\u001b[0m\u001b[0mreadlink\u001b[0m\u001b[1;33m(\u001b[0m\u001b[0msrc\u001b[0m\u001b[1;33m)\u001b[0m\u001b[1;33m,\u001b[0m \u001b[0mdst\u001b[0m\u001b[1;33m)\u001b[0m\u001b[1;33m\u001b[0m\u001b[1;33m\u001b[0m\u001b[0m\n\u001b[0;32m    119\u001b[0m     \u001b[1;32melse\u001b[0m\u001b[1;33m:\u001b[0m\u001b[1;33m\u001b[0m\u001b[1;33m\u001b[0m\u001b[0m\n\u001b[1;32m--> 120\u001b[1;33m         \u001b[1;32mwith\u001b[0m \u001b[0mopen\u001b[0m\u001b[1;33m(\u001b[0m\u001b[0msrc\u001b[0m\u001b[1;33m,\u001b[0m \u001b[1;34m'rb'\u001b[0m\u001b[1;33m)\u001b[0m \u001b[1;32mas\u001b[0m \u001b[0mfsrc\u001b[0m\u001b[1;33m:\u001b[0m\u001b[1;33m\u001b[0m\u001b[1;33m\u001b[0m\u001b[0m\n\u001b[0m\u001b[0;32m    121\u001b[0m             \u001b[1;32mwith\u001b[0m \u001b[0mopen\u001b[0m\u001b[1;33m(\u001b[0m\u001b[0mdst\u001b[0m\u001b[1;33m,\u001b[0m \u001b[1;34m'wb'\u001b[0m\u001b[1;33m)\u001b[0m \u001b[1;32mas\u001b[0m \u001b[0mfdst\u001b[0m\u001b[1;33m:\u001b[0m\u001b[1;33m\u001b[0m\u001b[1;33m\u001b[0m\u001b[0m\n\u001b[0;32m    122\u001b[0m                 \u001b[0mcopyfileobj\u001b[0m\u001b[1;33m(\u001b[0m\u001b[0mfsrc\u001b[0m\u001b[1;33m,\u001b[0m \u001b[0mfdst\u001b[0m\u001b[1;33m)\u001b[0m\u001b[1;33m\u001b[0m\u001b[1;33m\u001b[0m\u001b[0m\n",
      "\u001b[1;31mFileNotFoundError\u001b[0m: [Errno 2] No such file or directory: 'src.txt'"
     ]
    }
   ],
   "source": [
    "import shutil\n",
    "shutil.copy(\"src.txt\", \"dst.txt\")"
   ]
  },
  {
   "cell_type": "markdown",
   "metadata": {},
   "source": [
    "## glob\n",
    ": 특정 디렉터리에 있는 파일 이름 모두를 알아야 할 때 사용하는 모듈이다."
   ]
  },
  {
   "cell_type": "markdown",
   "metadata": {},
   "source": [
    "**glob.glob(pathname)** : 디렉터리에 있는 파일들을 리스트로 만든다."
   ]
  },
  {
   "cell_type": "code",
   "execution_count": 18,
   "metadata": {},
   "outputs": [
    {
     "data": {
      "text/plain": [
       "[]"
      ]
     },
     "execution_count": 18,
     "metadata": {},
     "output_type": "execute_result"
    }
   ],
   "source": [
    "import glob\n",
    "glob.glob(\"c:/doit/mark*\")  #mark로 시작하는 파일이 없어서 []로 결과가 나옴 ,mark로 시작하는 파일을 전부 읽어들임"
   ]
  },
  {
   "cell_type": "markdown",
   "metadata": {},
   "source": [
    "'*', '?' 등 메타 문자를 써서 원하는 파일만 읽어 들일 수도 있다. 위는 C:/doit 디렉터리에 있는 파일 중 이름이 mark로 시작하는 파일을 모두 찾아서 읽어들이는 예이다."
   ]
  },
  {
   "cell_type": "markdown",
   "metadata": {},
   "source": [
    "## tempfile\n",
    ": 파일을 임시로 만들어서 사용할 때 유용한 모듈이다."
   ]
  },
  {
   "cell_type": "markdown",
   "metadata": {},
   "source": [
    "**tempfile.mktemp()** : 중복되지 않는 임시 파일의 이름을 무작위로 만들어서 돌려준다."
   ]
  },
  {
   "cell_type": "code",
   "execution_count": 19,
   "metadata": {},
   "outputs": [
    {
     "data": {
      "text/plain": [
       "'C:\\\\Users\\\\SAMSUNG\\\\AppData\\\\Local\\\\Temp\\\\tmp161_q88t'"
      ]
     },
     "execution_count": 19,
     "metadata": {},
     "output_type": "execute_result"
    }
   ],
   "source": [
    "import tempfile\n",
    "filename = tempfile.mktemp()\n",
    "filename"
   ]
  },
  {
   "cell_type": "markdown",
   "metadata": {},
   "source": [
    "**tempfile.TemporaryFile()** : 임시 저장 공간으로 사용할 파일 객체를 돌려준다. 이 파일은 기본적으로 바이너리 쓰기 모드(wb)를 갖는다. f.close()가 호출되면 이 파일 객체는 자동으로 사라진다."
   ]
  },
  {
   "cell_type": "code",
   "execution_count": 20,
   "metadata": {},
   "outputs": [
    {
     "name": "stdout",
     "output_type": "stream",
     "text": [
      "<tempfile._TemporaryFileWrapper object at 0x000001B95BDAA5F8>\n"
     ]
    }
   ],
   "source": [
    "f = tempfile.TemporaryFile()\n",
    "print(f)"
   ]
  },
  {
   "cell_type": "code",
   "execution_count": 21,
   "metadata": {},
   "outputs": [],
   "source": [
    "f.close()"
   ]
  },
  {
   "cell_type": "markdown",
   "metadata": {},
   "source": [
    "## time\n",
    ": 시간과 관련된 함수를 포함한 모듈이다."
   ]
  },
  {
   "cell_type": "markdown",
   "metadata": {},
   "source": [
    "**time.time()** : UTC(Universal Time Coordinated 협정 세계 표준시)를 사용하여 현재 시간을 실수 형태로 돌려주는 함수이다. 1970년 1월 1일 0시 0분 0초를 기준으로 지난 시간을 초 단위로 돌려준다."
   ]
  },
  {
   "cell_type": "code",
   "execution_count": 22,
   "metadata": {},
   "outputs": [
    {
     "data": {
      "text/plain": [
       "1569583444.5023322"
      ]
     },
     "execution_count": 22,
     "metadata": {},
     "output_type": "execute_result"
    }
   ],
   "source": [
    "import time\n",
    "time.time()"
   ]
  },
  {
   "cell_type": "markdown",
   "metadata": {},
   "source": [
    "**time.localtime** : time.time()이 돌려준 실수 값을 사용해서 연도, 월, 일, 시, 분, 초, ... 의 형태로 바꾸어 주는 함수이다."
   ]
  },
  {
   "cell_type": "code",
   "execution_count": 23,
   "metadata": {},
   "outputs": [
    {
     "data": {
      "text/plain": [
       "time.struct_time(tm_year=2019, tm_mon=9, tm_mday=27, tm_hour=20, tm_min=24, tm_sec=50, tm_wday=4, tm_yday=270, tm_isdst=0)"
      ]
     },
     "execution_count": 23,
     "metadata": {},
     "output_type": "execute_result"
    }
   ],
   "source": [
    "time.localtime(time.time())"
   ]
  },
  {
   "cell_type": "markdown",
   "metadata": {},
   "source": [
    "**time.asctime** : 위 time.localtime에 의해서 반환된 튜플 형태의 값을 인수로 받아서 날짜와 시간을 알아보기 쉬운 형태로 돌려주는 함수이다."
   ]
  },
  {
   "cell_type": "code",
   "execution_count": 24,
   "metadata": {},
   "outputs": [
    {
     "data": {
      "text/plain": [
       "'Fri Sep 27 20:24:52 2019'"
      ]
     },
     "execution_count": 24,
     "metadata": {},
     "output_type": "execute_result"
    }
   ],
   "source": [
    "time.asctime(time.localtime(time.time()))"
   ]
  },
  {
   "cell_type": "markdown",
   "metadata": {},
   "source": [
    "**time.ctime()** : 위 time.asctime(time.localtime(time.time()))을 간편하게 표시할 수 있다. asctime과 다른 점은 ctime은 항상 현재 시간만을 돌려준다는 점이다."
   ]
  },
  {
   "cell_type": "code",
   "execution_count": 25,
   "metadata": {},
   "outputs": [
    {
     "data": {
      "text/plain": [
       "'Fri Sep 27 20:24:53 2019'"
      ]
     },
     "execution_count": 25,
     "metadata": {},
     "output_type": "execute_result"
    }
   ],
   "source": [
    "time.ctime()"
   ]
  },
  {
   "cell_type": "markdown",
   "metadata": {},
   "source": [
    "**time.strftime** : 시간에 관계된 것을 세밀하게 표현하는 여러 가지 포맷 코드를 제공한다."
   ]
  },
  {
   "cell_type": "code",
   "execution_count": 26,
   "metadata": {},
   "outputs": [
    {
     "data": {
      "text/plain": [
       "'09/27/19'"
      ]
     },
     "execution_count": 26,
     "metadata": {},
     "output_type": "execute_result"
    }
   ],
   "source": [
    "time.strftime('%x', time.localtime(time.time())) #현재 설정된 로케일에 기반한 날짜 출력"
   ]
  },
  {
   "cell_type": "code",
   "execution_count": 27,
   "metadata": {},
   "outputs": [
    {
     "data": {
      "text/plain": [
       "'Fri Sep 27 20:26:39 2019'"
      ]
     },
     "execution_count": 27,
     "metadata": {},
     "output_type": "execute_result"
    }
   ],
   "source": [
    "time.strftime('%c', time.localtime(time.time())) #날짜와 시간을 출력함"
   ]
  },
  {
   "cell_type": "markdown",
   "metadata": {},
   "source": [
    "**time.sleep** : 주로 루프 안에서 많이 사용한다. 이 함수를 사용하면 일정한 시간 간격을 두고 루프를 실행할 수 있다."
   ]
  },
  {
   "cell_type": "code",
   "execution_count": 28,
   "metadata": {},
   "outputs": [
    {
     "name": "stdout",
     "output_type": "stream",
     "text": [
      "0\n",
      "1\n",
      "2\n",
      "3\n",
      "4\n",
      "5\n",
      "6\n",
      "7\n",
      "8\n",
      "9\n"
     ]
    }
   ],
   "source": [
    "for i in range(10):\n",
    "    print(i)\n",
    "    time.sleep(1)  #시간을 변경하기 위해서는 sleep()안에 있는 숫자를 변경"
   ]
  },
  {
   "cell_type": "markdown",
   "metadata": {},
   "source": [
    "위를 실행하면 1초 간격으로 루프가 실행된다."
   ]
  },
  {
   "cell_type": "markdown",
   "metadata": {},
   "source": [
    "## calendar\n",
    ": 파이썬에서 달력을 볼 수 있게 해주는 모듈이다."
   ]
  },
  {
   "cell_type": "markdown",
   "metadata": {},
   "source": [
    "**calendar.calendar(연도)** : 그해의 전체 달력을 볼 수 있다."
   ]
  },
  {
   "cell_type": "code",
   "execution_count": 29,
   "metadata": {},
   "outputs": [
    {
     "name": "stdout",
     "output_type": "stream",
     "text": [
      "                                  2019\n",
      "\n",
      "      January                   February                   March\n",
      "Mo Tu We Th Fr Sa Su      Mo Tu We Th Fr Sa Su      Mo Tu We Th Fr Sa Su\n",
      "    1  2  3  4  5  6                   1  2  3                   1  2  3\n",
      " 7  8  9 10 11 12 13       4  5  6  7  8  9 10       4  5  6  7  8  9 10\n",
      "14 15 16 17 18 19 20      11 12 13 14 15 16 17      11 12 13 14 15 16 17\n",
      "21 22 23 24 25 26 27      18 19 20 21 22 23 24      18 19 20 21 22 23 24\n",
      "28 29 30 31               25 26 27 28               25 26 27 28 29 30 31\n",
      "\n",
      "       April                      May                       June\n",
      "Mo Tu We Th Fr Sa Su      Mo Tu We Th Fr Sa Su      Mo Tu We Th Fr Sa Su\n",
      " 1  2  3  4  5  6  7             1  2  3  4  5                      1  2\n",
      " 8  9 10 11 12 13 14       6  7  8  9 10 11 12       3  4  5  6  7  8  9\n",
      "15 16 17 18 19 20 21      13 14 15 16 17 18 19      10 11 12 13 14 15 16\n",
      "22 23 24 25 26 27 28      20 21 22 23 24 25 26      17 18 19 20 21 22 23\n",
      "29 30                     27 28 29 30 31            24 25 26 27 28 29 30\n",
      "\n",
      "        July                     August                  September\n",
      "Mo Tu We Th Fr Sa Su      Mo Tu We Th Fr Sa Su      Mo Tu We Th Fr Sa Su\n",
      " 1  2  3  4  5  6  7                1  2  3  4                         1\n",
      " 8  9 10 11 12 13 14       5  6  7  8  9 10 11       2  3  4  5  6  7  8\n",
      "15 16 17 18 19 20 21      12 13 14 15 16 17 18       9 10 11 12 13 14 15\n",
      "22 23 24 25 26 27 28      19 20 21 22 23 24 25      16 17 18 19 20 21 22\n",
      "29 30 31                  26 27 28 29 30 31         23 24 25 26 27 28 29\n",
      "                                                    30\n",
      "\n",
      "      October                   November                  December\n",
      "Mo Tu We Th Fr Sa Su      Mo Tu We Th Fr Sa Su      Mo Tu We Th Fr Sa Su\n",
      "    1  2  3  4  5  6                   1  2  3                         1\n",
      " 7  8  9 10 11 12 13       4  5  6  7  8  9 10       2  3  4  5  6  7  8\n",
      "14 15 16 17 18 19 20      11 12 13 14 15 16 17       9 10 11 12 13 14 15\n",
      "21 22 23 24 25 26 27      18 19 20 21 22 23 24      16 17 18 19 20 21 22\n",
      "28 29 30 31               25 26 27 28 29 30         23 24 25 26 27 28 29\n",
      "                                                    30 31\n",
      "\n"
     ]
    }
   ],
   "source": [
    "import calendar\n",
    "print(calendar.calendar(2019))"
   ]
  },
  {
   "cell_type": "markdown",
   "metadata": {},
   "source": [
    "**calendar.prmonth(연도, 달)** : 특정 달의 달력만 보여준다."
   ]
  },
  {
   "cell_type": "code",
   "execution_count": 30,
   "metadata": {},
   "outputs": [
    {
     "name": "stdout",
     "output_type": "stream",
     "text": [
      "   September 2019\n",
      "Mo Tu We Th Fr Sa Su\n",
      "                   1\n",
      " 2  3  4  5  6  7  8\n",
      " 9 10 11 12 13 14 15\n",
      "16 17 18 19 20 21 22\n",
      "23 24 25 26 27 28 29\n",
      "30\n"
     ]
    }
   ],
   "source": [
    " calendar.prmonth(2019, 9)"
   ]
  },
  {
   "cell_type": "markdown",
   "metadata": {},
   "source": [
    "**calendar.weekday(연도, 월, 일)** : 그 날짜에 해당하는 요일 정보를 돌려준다. 월요일은 0, 화요일은 1, 수요일은 2, 목요일은 3, 금요일은 4, 토요일은 5, 일요일은 6이라는 값을 돌려준다."
   ]
  },
  {
   "cell_type": "code",
   "execution_count": 31,
   "metadata": {},
   "outputs": [
    {
     "data": {
      "text/plain": [
       "4"
      ]
     },
     "execution_count": 31,
     "metadata": {},
     "output_type": "execute_result"
    }
   ],
   "source": [
    "calendar.weekday(2019, 9, 20)"
   ]
  },
  {
   "cell_type": "markdown",
   "metadata": {},
   "source": [
    "**calendar.monthrange(연도, 월)** : 입력받은 달의 1일이 무슨 요일인지와 그 달이 며칠까지 있는지를 튜플 형태로 돌려준다."
   ]
  },
  {
   "cell_type": "code",
   "execution_count": 32,
   "metadata": {},
   "outputs": [
    {
     "data": {
      "text/plain": [
       "(6, 31)"
      ]
     },
     "execution_count": 32,
     "metadata": {},
     "output_type": "execute_result"
    }
   ],
   "source": [
    "calendar.monthrange(2019,12)  #12월 1일은 일요일이기 때문에 6이 출력되고, 12월은 31일까지 있기 때문에 31 출력"
   ]
  },
  {
   "cell_type": "markdown",
   "metadata": {},
   "source": [
    "## random\n",
    ": 난수(규칙이 없는 임의의 수)를 발생시키는 모듈이다."
   ]
  },
  {
   "cell_type": "markdown",
   "metadata": {},
   "source": [
    "**random.random()** :  0.0에서 1.0 사이의 실수 중에서 난수 값을 돌려준다."
   ]
  },
  {
   "cell_type": "code",
   "execution_count": 33,
   "metadata": {},
   "outputs": [
    {
     "data": {
      "text/plain": [
       "0.31563564426648416"
      ]
     },
     "execution_count": 33,
     "metadata": {},
     "output_type": "execute_result"
    }
   ],
   "source": [
    "import random\n",
    "random.random()"
   ]
  },
  {
   "cell_type": "markdown",
   "metadata": {},
   "source": [
    "**random.randint(start, end)** : 지정한 범위 내의 정수 중에서 난수 값을 돌려준다. 이 때 end값을 포함한다."
   ]
  },
  {
   "cell_type": "code",
   "execution_count": 34,
   "metadata": {},
   "outputs": [
    {
     "data": {
      "text/plain": [
       "10"
      ]
     },
     "execution_count": 34,
     "metadata": {},
     "output_type": "execute_result"
    }
   ],
   "source": [
    "random.randint(1, 10)"
   ]
  },
  {
   "cell_type": "markdown",
   "metadata": {},
   "source": [
    "**random.shuffle** : 리스트의 항목을 무작위로 섞어준다."
   ]
  },
  {
   "cell_type": "code",
   "execution_count": 36,
   "metadata": {},
   "outputs": [
    {
     "data": {
      "text/plain": [
       "[1, 4, 2, 3, 5]"
      ]
     },
     "execution_count": 36,
     "metadata": {},
     "output_type": "execute_result"
    }
   ],
   "source": [
    "data = [1, 2, 3, 4, 5]\n",
    "random.shuffle(data)\n",
    "data"
   ]
  },
  {
   "cell_type": "markdown",
   "metadata": {},
   "source": [
    "## webbrowser\n",
    ": 자신의 시스템에서 사용하는 기본 웹 브라우저를 자동으로 실행하는 모듈이다. "
   ]
  },
  {
   "cell_type": "markdown",
   "metadata": {},
   "source": [
    "**webbrowser.open** : 웹 브라우저를 자동으로 실행하고 해당 URL로 가게 해 준다."
   ]
  },
  {
   "cell_type": "code",
   "execution_count": 37,
   "metadata": {},
   "outputs": [
    {
     "data": {
      "text/plain": [
       "True"
      ]
     },
     "execution_count": 37,
     "metadata": {},
     "output_type": "execute_result"
    }
   ],
   "source": [
    "import webbrowser\n",
    "webbrowser.open(\"http://google.com\")"
   ]
  },
  {
   "cell_type": "markdown",
   "metadata": {},
   "source": [
    "webbrowser의 open 함수는 웹 브라우저가 이미 실행된 상태라면 입력 주소로 이동한다. 만약 웹 브라우저가 실행되지 않은 상태라면 새로 웹 브라우저를 실행한 후 해당 주소로 이동한다."
   ]
  },
  {
   "cell_type": "markdown",
   "metadata": {},
   "source": [
    "**wepbrowser.open_new** : 이미 웹 브라우저가 실행된 상태이더라도 새로운 창으로 해당 주소가 열리게 한다."
   ]
  },
  {
   "cell_type": "code",
   "execution_count": 38,
   "metadata": {},
   "outputs": [
    {
     "data": {
      "text/plain": [
       "True"
      ]
     },
     "execution_count": 38,
     "metadata": {},
     "output_type": "execute_result"
    }
   ],
   "source": [
    "webbrowser.open_new(\"http://google.com\")"
   ]
  },
  {
   "cell_type": "code",
   "execution_count": null,
   "metadata": {},
   "outputs": [],
   "source": []
  }
 ],
 "metadata": {
  "kernelspec": {
   "display_name": "Python 3",
   "language": "python",
   "name": "python3"
  },
  "language_info": {
   "codemirror_mode": {
    "name": "ipython",
    "version": 3
   },
   "file_extension": ".py",
   "mimetype": "text/x-python",
   "name": "python",
   "nbconvert_exporter": "python",
   "pygments_lexer": "ipython3",
   "version": "3.7.3"
  }
 },
 "nbformat": 4,
 "nbformat_minor": 2
}
